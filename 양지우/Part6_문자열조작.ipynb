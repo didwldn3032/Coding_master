{
  "nbformat": 4,
  "nbformat_minor": 0,
  "metadata": {
    "colab": {
      "provenance": []
    },
    "kernelspec": {
      "name": "python3",
      "display_name": "Python 3"
    },
    "language_info": {
      "name": "python"
    }
  },
  "cells": [
    {
      "cell_type": "markdown",
      "source": [
        "## 책 문제"
      ],
      "metadata": {
        "id": "ReYXQ9voR9il"
      }
    },
    {
      "cell_type": "markdown",
      "source": [
        "### 01. 유효한 팰린드롬"
      ],
      "metadata": {
        "id": "T0GoIxl06-Cs"
      }
    },
    {
      "cell_type": "code",
      "source": [
        "#\"A man, a plan, a canal: Panama\"\n",
        "s=input()\n",
        "strs=[]\n",
        "for char in s:\n",
        "  if char.isalnum(): #숫자나 문자일때만 append\n",
        "    strs.append(char.lower()) #대소문자 상관없기 때문에 변환 후, append\n",
        "\n",
        "strs[::-1]==strs"
      ],
      "metadata": {
        "colab": {
          "base_uri": "https://localhost:8080/"
        },
        "id": "8YvxaFZT7BiZ",
        "outputId": "aaaa616c-77c9-43c3-cc44-c8a1c94de85e"
      },
      "execution_count": 12,
      "outputs": [
        {
          "name": "stdout",
          "output_type": "stream",
          "text": [
            "A man, a plan, a canal: Panama\n"
          ]
        },
        {
          "output_type": "execute_result",
          "data": {
            "text/plain": [
              "True"
            ]
          },
          "metadata": {},
          "execution_count": 12
        }
      ]
    },
    {
      "cell_type": "code",
      "source": [
        "#\"race a car\"\n",
        "s=input()\n",
        "strs=[]\n",
        "for char in s:\n",
        "  if char.isalnum():\n",
        "    strs.append(char.lower())\n",
        "\n",
        "strs[::-1]==strs"
      ],
      "metadata": {
        "colab": {
          "base_uri": "https://localhost:8080/"
        },
        "id": "POgGvP8G7u0H",
        "outputId": "f0fc444c-d086-4a62-f40a-68fd83783fab"
      },
      "execution_count": 13,
      "outputs": [
        {
          "name": "stdout",
          "output_type": "stream",
          "text": [
            "race a car\n"
          ]
        },
        {
          "output_type": "execute_result",
          "data": {
            "text/plain": [
              "False"
            ]
          },
          "metadata": {},
          "execution_count": 13
        }
      ]
    },
    {
      "cell_type": "code",
      "source": [
        "#풀이1. 리스트로 변환\n",
        "def isPalindrome(self, s:str) -> bool:\n",
        "  strs=[]\n",
        "  for char in s:\n",
        "    if char.isalnum():\n",
        "      strs.append(char.lower())\n",
        "  \n",
        "  #팰린드롬 여부 판별\n",
        "  while len(strs)>1:\n",
        "    if strs.pop(0)!=strs.pop():\n",
        "      return False\n",
        "\n",
        "  return True"
      ],
      "metadata": {
        "id": "pEKF9Fhg9T3Q"
      },
      "execution_count": 14,
      "outputs": []
    },
    {
      "cell_type": "code",
      "source": [
        "#풀이2. 데크 자료형을 이용한 최적화\n",
        "def isPalindrome(self, s:str) -> bool:\n",
        "  #자료형 데크로 선언\n",
        "  strs: Deque=colletctions.deque()\n",
        "  for char in s:\n",
        "    if char.isalnum():\n",
        "      strs.append(char.lower())\n",
        "  \n",
        "  #팰린드롬 여부 판별\n",
        "  while len(strs)>1:\n",
        "    if strs.popleft()!=strs.pop():\n",
        "      return False\n",
        "\n",
        "  return True"
      ],
      "metadata": {
        "id": "c1s7nXPy-j7k"
      },
      "execution_count": 15,
      "outputs": []
    },
    {
      "cell_type": "code",
      "source": [
        "#풀이3. 슬라이싱 사용\n",
        "def isPalindrome(self, s:str) -> bool:\n",
        "  s=s.lower()\n",
        "  #정규식으로 불필요한 문자 필터링\n",
        "  s=re.sub('[^a-z0-9]','',s)\n",
        "\n",
        "  return s==s[::-1]"
      ],
      "metadata": {
        "id": "KDhvNrrCB98h"
      },
      "execution_count": 16,
      "outputs": []
    },
    {
      "cell_type": "markdown",
      "source": [
        "### 02. 문자열 뒤집기"
      ],
      "metadata": {
        "id": "9_Yas5xICcNt"
      }
    },
    {
      "cell_type": "code",
      "source": [
        "#풀이1. 투 포인터를 이용한 스왑\n",
        "def reverseString(self, s:List[str]) -> None:\n",
        "  left, right=0, len(s) -1\n",
        "  while left < right:\n",
        "    s[left],s[right]=s[right],s[left]\n",
        "    left+=1\n",
        "    right-=1"
      ],
      "metadata": {
        "id": "-giBnyc1CfLi"
      },
      "execution_count": null,
      "outputs": []
    },
    {
      "cell_type": "code",
      "source": [
        "#풀이2. 파이썬다운 방식\n",
        "def reverseString(self, s:List[str]) -> None:\n",
        "  s.reverse()"
      ],
      "metadata": {
        "id": "20NocFfUGzIG"
      },
      "execution_count": null,
      "outputs": []
    },
    {
      "cell_type": "markdown",
      "source": [
        "### 03. 로그파일 재정렬"
      ],
      "metadata": {
        "id": "ndlssCLNG5Ym"
      }
    },
    {
      "cell_type": "code",
      "source": [
        "#람다와 +연산자를 이용\n",
        "from typing import List\n",
        "def reorderLogFiles(self, logs:List[str]) -> LIst[str]:\n",
        "  letters,digits = [],[]\n",
        "  for log in logs:\n",
        "    if log.split()[1].isdigit():\n",
        "      digits.append(log)\n",
        "    else:\n",
        "      letters.append(log)\n",
        "    \n",
        "  #2개의 키를 람다 표현식으로 정렬\n",
        "  letters.sort(key=lambda x:(x.split()[1:],x.split()[0])) #문자열이 동일할 경우, 후순위로 첫번째 글자 사용\n",
        "  return letters+digits"
      ],
      "metadata": {
        "id": "6Pz9gApuG7e7"
      },
      "execution_count": null,
      "outputs": []
    },
    {
      "cell_type": "markdown",
      "source": [
        "### 04. 가장 흔한 단어"
      ],
      "metadata": {
        "id": "TnlVvMrBJaY6"
      }
    },
    {
      "cell_type": "code",
      "source": [
        "#풀이1. 리스트 컴프리헨션, Counter 객체 사용\n",
        "from collections import Counter\n",
        "import re\n",
        "def mostCommonWodr(self, paragraph:str, banned:List[str]) -> str:\n",
        "  words=[word for word in re.sub(r'[^\\w]',\"\",paragraph).lower().split() if word not in banned]\n",
        "  \n",
        "  counts=Counter(words)\n",
        "  #가장 흔하게 등장하는 단어의 첫 번째 인덱스 리턴\n",
        "  return counts.most_common(1)[0][0]"
      ],
      "metadata": {
        "id": "N9jo8KcTJbz6"
      },
      "execution_count": null,
      "outputs": []
    },
    {
      "cell_type": "markdown",
      "source": [
        "### 05. 그룹 애너그램"
      ],
      "metadata": {
        "id": "YQbRIvuSLN0o"
      }
    },
    {
      "cell_type": "code",
      "source": [
        "#풀이1. 정렬하여 딕셔너리에 추가\n",
        "def groupAnagrams(self, strs:List[str]) -> List[List[str]]:\n",
        "  anagrams=collections.defaultdict(list)\n",
        "\n",
        "  for word in strs:\n",
        "    #정렬하여 딕셔너리에 추가\n",
        "    anagrams['',join(sorted(word))].append(word)]\n",
        "\n",
        "  return list(anagrmas,values())"
      ],
      "metadata": {
        "id": "R2tH2AIPLO3w"
      },
      "execution_count": null,
      "outputs": []
    },
    {
      "cell_type": "markdown",
      "source": [
        "### 06. 가장 긴 팰린드롬 부분 문자열"
      ],
      "metadata": {
        "id": "AApr3gpmO3Sf"
      }
    },
    {
      "cell_type": "code",
      "source": [
        "#중앙을 중심으로 확장하는 풀이\n",
        "def lingestPalindrome(self, s:str) -> str:\n",
        "  #팰린드롬 판별 및 투 포인터 확장\n",
        "  def expand(left: int, right:int) -> str:\n",
        "    while left>=0 and right<len(s) and s[left] == s[right]:\n",
        "      left-=1\n",
        "      right+=1\n",
        "    return s[left+1:right]\n",
        "  \n",
        "  #해당 사항이 없을 때 빠르게 리턴\n",
        "  if len(s) < 2 or s == s[::-1]:\n",
        "    return s\n",
        "  \n",
        "  result=''\n",
        "  #슬라이딩 윈도우 우측으로 이동\n",
        "  for i in range(len(s)-1):\n",
        "    result=max(result,\n",
        "               expand(i,i+1),\n",
        "               expand(i,i+2),\n",
        "               key=len)\n",
        "    \n",
        "  return result"
      ],
      "metadata": {
        "id": "pXlJwT18O6Hn"
      },
      "execution_count": null,
      "outputs": []
    },
    {
      "cell_type": "markdown",
      "source": [
        "## 백준 문제"
      ],
      "metadata": {
        "id": "6nVpPmwVSLQq"
      }
    },
    {
      "cell_type": "code",
      "source": [
        "#2675번 : 문자열 반복\n",
        "num=int(input())\n",
        "for i in range(num):\n",
        "  n,c=input().split()\n",
        "  print(''.join([int(n)*s for s in c]))"
      ],
      "metadata": {
        "colab": {
          "base_uri": "https://localhost:8080/"
        },
        "id": "cByGoD-WSNlP",
        "outputId": "5c1b4a76-fea4-444c-a184-ad19b8e41435"
      },
      "execution_count": 23,
      "outputs": [
        {
          "output_type": "stream",
          "name": "stdout",
          "text": [
            "2\n",
            "3 abc\n",
            "aaabbbccc\n",
            "5 /htp\n",
            "/////hhhhhtttttppppp\n"
          ]
        }
      ]
    },
    {
      "cell_type": "code",
      "source": [
        "#10820번 : 문자열 분석\n",
        "\n",
        "import sys\n",
        "while True:\n",
        "  line = sys.stdin.readline().rstrip('\\n')\n",
        "  if not line:\n",
        "    break\n",
        "  lower,upper,num,space=0,0,0,0\n",
        "  for i in line:\n",
        "    if i.islower():\n",
        "      lower+=1\n",
        "    elif i.isupper():\n",
        "      upper+=1\n",
        "    elif i.isdigit():\n",
        "      num+=1\n",
        "    elif i==' ':\n",
        "      space+=1\n",
        "\n",
        "  print(lower,upper,num,space)"
      ],
      "metadata": {
        "id": "vEVNcPkBVT-O"
      },
      "execution_count": 9,
      "outputs": []
    },
    {
      "cell_type": "code",
      "source": [
        "#16916번 : 부분 문자열\n",
        "\n",
        "def solution(s:str, p:str) -> str:\n",
        "  return 1 if p in s else 0\n",
        "\n",
        "s=input()\n",
        "p=input()\n",
        "\n",
        "print(solution(s,p))"
      ],
      "metadata": {
        "colab": {
          "base_uri": "https://localhost:8080/"
        },
        "id": "0K5avQ-OW77T",
        "outputId": "f67aa8d4-3f74-4be9-e6ac-064d518740bf"
      },
      "execution_count": 13,
      "outputs": [
        {
          "output_type": "stream",
          "name": "stdout",
          "text": [
            "baekjoon\n",
            "aek\n",
            "1\n"
          ]
        }
      ]
    },
    {
      "cell_type": "code",
      "source": [
        "#23746번 : 문자열 압축 해제\n",
        "\n",
        "from collections import defaultdict\n",
        "num=int(input())\n",
        "d=defaultdict()\n",
        "\n",
        "for i in range(num):\n",
        "  v,k=input().split()\n",
        "  d[k]=v\n",
        "\n",
        "word=input()\n",
        "start,end=input().split()\n",
        "print(''.join([d[i] for i in word])[int(start)-1:int(end)])"
      ],
      "metadata": {
        "colab": {
          "base_uri": "https://localhost:8080/"
        },
        "id": "tnrmVGxobcd1",
        "outputId": "e6131e0d-30d1-4b00-874a-2b6a8e6aaf32"
      },
      "execution_count": 25,
      "outputs": [
        {
          "output_type": "stream",
          "name": "stdout",
          "text": [
            "3\n",
            "aa A\n",
            "bba B\n",
            "c C\n",
            "ABAC\n",
            "4 6\n",
            "baa\n"
          ]
        }
      ]
    },
    {
      "cell_type": "code",
      "source": [
        "#25643번 : 문자열 탑 쌓기\n",
        "\n",
        "num1,num2=map(int,input().split())\n",
        "\n",
        "s=[]\n",
        "for i in range(num1):\n",
        "  s.append(input())\n",
        "\n",
        "\n",
        "for i in range(num1-1):\n",
        "\n",
        "  str1=s[i]\n",
        "  str2=s[i+1]\n",
        "\n",
        "  result=False\n",
        "\n",
        "  for j in range(1,num2+1):\n",
        "    if str1[num2-j:]==str2[:j]:\n",
        "      result=True\n",
        "      break\n",
        "    \n",
        "    if str1[:j]==str2[num2-j:]:\n",
        "      result=True\n",
        "      break\n",
        "    \n",
        "  if not result:\n",
        "    print(0)\n",
        "    exit(0)\n",
        "\n",
        "print(1)"
      ],
      "metadata": {
        "id": "R2cqJ0zDd3D2"
      },
      "execution_count": null,
      "outputs": []
    },
    {
      "cell_type": "code",
      "source": [
        "#6550번 : 부분 문자열\n",
        "import sys\n",
        "result=False\n",
        "while True:\n",
        "    try:\n",
        "        s,t=input().split()\n",
        "        for i in s:\n",
        "            f=t.find(i)\n",
        "            if f==-1:\n",
        "                result=False\n",
        "                break\n",
        "            else:    \n",
        "                t=t[f:]\n",
        "                result=True\n",
        "\n",
        "        if result:\n",
        "            print('Yes')\n",
        "        else:\n",
        "            print('No')\n",
        "    except:\n",
        "        break"
      ],
      "metadata": {
        "colab": {
          "base_uri": "https://localhost:8080/"
        },
        "id": "bPiSxug1H4Jp",
        "outputId": "6c9ee733-fa46-4d58-e620-20469a37c29a"
      },
      "execution_count": 16,
      "outputs": [
        {
          "output_type": "stream",
          "name": "stdout",
          "text": [
            "abcc absdacadssdc\n",
            "Yes\n"
          ]
        }
      ]
    },
    {
      "cell_type": "code",
      "source": [
        "#11059번 : 크리 문자열\n",
        "s=input()\n",
        "for i in range(4,0,-1):\n",
        "  num=0\n",
        "  result=False\n",
        "  while num+i+i<=len(s):\n",
        "    if sum(map(int,list(s[num:num+i])))==sum(map(int,list(s[num+i:num+i+i]))):\n",
        "      result=True\n",
        "      break\n",
        "    else:\n",
        "      num+=1\n",
        "  if result:\n",
        "    print(i*2)\n",
        "    break"
      ],
      "metadata": {
        "colab": {
          "base_uri": "https://localhost:8080/"
        },
        "id": "0XjdOngvJXBA",
        "outputId": "1c44d87f-3461-43c2-c63b-de1cf9fbe5fc"
      },
      "execution_count": 5,
      "outputs": [
        {
          "output_type": "stream",
          "name": "stdout",
          "text": [
            "00\n",
            "2\n"
          ]
        }
      ]
    },
    {
      "cell_type": "code",
      "source": [
        "#12871번 : 무한 문자열\n",
        "s=input()\n",
        "t=input()\n",
        "import math\n",
        "n=math.lcm(len(s),len(t))\n",
        "\n",
        "if n//len(s)*s==n//len(t)*t:\n",
        "  print(1)\n",
        "else:\n",
        "  print(0)\n"
      ],
      "metadata": {
        "colab": {
          "base_uri": "https://localhost:8080/"
        },
        "id": "B3jDoTtEN4Gy",
        "outputId": "91721d77-f0d0-43a1-fcb8-33b5345a78e4"
      },
      "execution_count": 9,
      "outputs": [
        {
          "output_type": "execute_result",
          "data": {
            "text/plain": [
              "False"
            ]
          },
          "metadata": {},
          "execution_count": 9
        }
      ]
    }
  ]
}