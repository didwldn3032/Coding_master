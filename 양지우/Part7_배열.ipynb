{
  "nbformat": 4,
  "nbformat_minor": 0,
  "metadata": {
    "colab": {
      "provenance": []
    },
    "kernelspec": {
      "name": "python3",
      "display_name": "Python 3"
    },
    "language_info": {
      "name": "python"
    }
  },
  "cells": [
    {
      "cell_type": "markdown",
      "source": [
        "## 책 문제"
      ],
      "metadata": {
        "id": "qtEDLzeFi6UY"
      }
    },
    {
      "cell_type": "markdown",
      "source": [
        "### 07. 두 수의 합"
      ],
      "metadata": {
        "id": "8zXn3mB7jD4s"
      }
    },
    {
      "cell_type": "code",
      "source": [
        "# 풀이1. 브루트 포스로 계산\n",
        "from typing import List\n",
        "def twoSum(self, nums:List[int], target:int) -> List[int]:\n",
        "  for i in range(len(nums)):\n",
        "    for j in range(i+1, len(nums)):\n",
        "      if nums[i]+nums[j]==target:\n",
        "        return [i,j]"
      ],
      "metadata": {
        "id": "rwp9Dks3jxpQ"
      },
      "execution_count": null,
      "outputs": []
    },
    {
      "cell_type": "code",
      "source": [
        "#풀이2. in을 이용한 탐색\n",
        "def twoSum(nums:List[int], target:int) -> List[int]:\n",
        "  for i,n in enumerate(nums):\n",
        "    complement = target-n\n",
        "\n",
        "    if complement in nums[i+1:]:\n",
        "      return [i, nums[i+1:].index(complement)+(i+1)]"
      ],
      "metadata": {
        "id": "J-SgclX5lOJZ"
      },
      "execution_count": null,
      "outputs": []
    },
    {
      "cell_type": "code",
      "source": [
        "#풀이3. 첫 번째 수를 뺀 결과 키 조회\n",
        "def twoSum(nums:List[int], target:int) -> List[int]:\n",
        "  nums_map={}\n",
        "  #키와 값을 바꿔서 딕셔너리로 저장\n",
        "  for i, num in enumerate(nums):\n",
        "    nums_map[num]=i\n",
        "\n",
        "  #타겟에서 첫 번째 수를 뺀 결과를 키로 조회\n",
        "  for i, num in enumerate(nums):\n",
        "    if target-num in nums_map and i!=nums_map[target-num]:\n",
        "      return [i,nums_map[target-num]]"
      ],
      "metadata": {
        "id": "j7Wbf11GmGZ0"
      },
      "execution_count": null,
      "outputs": []
    },
    {
      "cell_type": "code",
      "source": [
        "#풀이4. 조회 구조 개선\n",
        "def twoSum(nums:List[int], target:int) -> List[int]:\n",
        "  nums_map={}\n",
        "  #하나의 for문으로 통합\n",
        "  for i,num in enumerate(nums):\n",
        "    if target-num in nums_map:\n",
        "      return [nums_map[target-num],i]\n",
        "    nums_map[num]=i"
      ],
      "metadata": {
        "id": "tQ1VzmIwowkb"
      },
      "execution_count": null,
      "outputs": []
    },
    {
      "cell_type": "markdown",
      "source": [
        "### 08. 빗물 트래핑"
      ],
      "metadata": {
        "id": "Y7iJcZw2qnDl"
      }
    },
    {
      "cell_type": "code",
      "source": [
        "#풀이1. 투 포인터를 최대한 이용\n",
        "def trap(self, height:List[int]) -> int:\n",
        "  if not height:\n",
        "    return 0\n",
        "  \n",
        "  volume = 0\n",
        "  left,right=0,len(height)-1\n",
        "  left_max,right_max=height[left],height[right]\n",
        "\n",
        "  while left<right:\n",
        "    left_max,right_max=max(height[left],left_max),max(height[right],right_max)\n",
        "\n",
        "    #더 높은 쪽을 향해 투 포인터 이동\n",
        "    if left_max<=right_max:\n",
        "      volume += left_max - height[left]\n",
        "      left+=1\n",
        "    else:\n",
        "      volume += right_max-height[right]\n",
        "      right-=1\n",
        "  return volume"
      ],
      "metadata": {
        "id": "_X2m30f9pm2r"
      },
      "execution_count": null,
      "outputs": []
    },
    {
      "cell_type": "code",
      "source": [
        "#풀이2. 스택 쌓기\n",
        "def trap(height:List[int]) -> int:\n",
        "  stack=[]\n",
        "  volume=0\n",
        "\n",
        "  for i in range(len(height)):\n",
        "    #변곡점을 만나는 경우\n",
        "    while stack and height[i]>height[stack[-1]]:\n",
        "      #스택에서 꺼낸다\n",
        "      top=stack.pop()\n",
        "\n",
        "      if not len(stack):\n",
        "        break\n",
        "      \n",
        "      #이전과의 차이만큼 물 높이 처리\n",
        "      distance=i-stack[-1]-1\n",
        "      print(distance,i,stack)\n",
        "      waters=min(height[i], height[stack[-1]])-height[top]\n",
        "\n",
        "      volume+=distance*waters\n",
        "    \n",
        "    stack.append(i)\n",
        "  \n",
        "  return volume"
      ],
      "metadata": {
        "id": "m4TePw_Ypm6r"
      },
      "execution_count": null,
      "outputs": []
    },
    {
      "cell_type": "markdown",
      "source": [
        "### 09. 세 수의 합"
      ],
      "metadata": {
        "id": "hcXCWVW02wLF"
      }
    },
    {
      "cell_type": "code",
      "source": [
        "#풀이1. 브루트 포스로 계산\n",
        "def threeSum(self, nums:List[int]) -> List[List[int]]:\n",
        "  results=[]\n",
        "  nums.sort()\n",
        "\n",
        "  #브루트 포스 n^3 반복\n",
        "  for i in range(len(nums)-2):\n",
        "    #중복된 값 건너뛰기\n",
        "    if i>0 and nums[i]==nums[i-1]:\n",
        "      continue\n",
        "    for j in range(i+1, len(nums)-1):\n",
        "      if j>i+1 and nums[j]==nums[j-1]:\n",
        "        continue\n",
        "      for k in range(j+1, len(nums)):\n",
        "        if k>j+1 and nums[k]==nums[k-1]:\n",
        "          continue\n",
        "        if nums[i]+nums[j]+nums[k]==0:\n",
        "          results.append([nums[i],nums[j],nums[k]])\n",
        "\n",
        "  return results"
      ],
      "metadata": {
        "id": "cVTpH4Hv2yGI"
      },
      "execution_count": null,
      "outputs": []
    },
    {
      "cell_type": "code",
      "source": [
        "#풀이2. 투 포인터로 합 계산\n",
        "def threeSum(self, nums:List[int]) -> List[List[int]]:\n",
        "  results=[]\n",
        "  nums.sort()\n",
        "\n",
        "  for i in range(len(nums)-2):\n",
        "    #중복된 값 건너뛰기\n",
        "    if i>0 and nums[i] == nums[i-1]:\n",
        "      continue\n",
        "    \n",
        "    #간격을 좁혀가며 합 sum 계산\n",
        "    left,right=i+1,len(nums)-1\n",
        "    while left<range:\n",
        "      sum=nums[i]+nums[left]+nums[right]\n",
        "      if sum<0:\n",
        "        left+=1\n",
        "      elif sum>0:\n",
        "        right-=1\n",
        "      else:\n",
        "        #sum=0인 경우이므로 정답 및 스킵 처리\n",
        "        results.append([nums[i],nums[left],nums[right]])\n",
        "\n",
        "        while left<right and nums[left]==nums[left+1]:\n",
        "          left+=1\n",
        "        while left<right and nums[right]==nums[right-1]:\n",
        "          right-=1\n",
        "        left+=1\n",
        "        right-=1\n",
        "    \n",
        "    return results"
      ],
      "metadata": {
        "id": "fqKw8C9W4-X0"
      },
      "execution_count": null,
      "outputs": []
    },
    {
      "cell_type": "markdown",
      "source": [
        "### 10. 배열 파티션1"
      ],
      "metadata": {
        "id": "IyeHIi276OE6"
      }
    },
    {
      "cell_type": "code",
      "source": [
        "#풀이1. 오름차순 풀이\n",
        "def arrayPairSum(self, nums:List[int])->int:\n",
        "  sum=0\n",
        "  pair=[]\n",
        "  nums.sort()\n",
        "\n",
        "  for n in nums:\n",
        "    #앞에서부터 오름차순으로 페어를 만들어서 합 계산\n",
        "    pair.append(n)\n",
        "    if len(pair)==2:\n",
        "      sum+=min(pair)\n",
        "      pair=[]\n",
        "  \n",
        "  return sum"
      ],
      "metadata": {
        "id": "jK7bjvfS6TAU"
      },
      "execution_count": null,
      "outputs": []
    },
    {
      "cell_type": "code",
      "source": [
        "#풀이2. 짝수 번째 값 계산\n",
        "def arrayPairSum(self, nums:List[int])->int:\n",
        "  sum=0\n",
        "  nums.sort()\n",
        "\n",
        "  for i,n in enumerate(nums):\n",
        "    #짝수 번째 값의 합 계산\n",
        "    if i%2==0:\n",
        "      sum+=n\n",
        "\n",
        "  return sum"
      ],
      "metadata": {
        "id": "QK6TdFEy7KLe"
      },
      "execution_count": null,
      "outputs": []
    },
    {
      "cell_type": "code",
      "source": [
        "#풀이3. 파이썬다운 방식\n",
        "def arrayPairSum(self, nums:List[int])->int:\n",
        "  return sum(sorted(nums)[::2])"
      ],
      "metadata": {
        "id": "q55LvoF_8gJt"
      },
      "execution_count": null,
      "outputs": []
    },
    {
      "cell_type": "markdown",
      "source": [
        "### 11. 자신을 제외한 배열의 곱"
      ],
      "metadata": {
        "id": "0iKkTpGv8zq6"
      }
    },
    {
      "cell_type": "code",
      "source": [
        "#풀이1. 왼쪽 곱셈 결과에 오른쪽 값을 차례대로 곱셈\n",
        "def productExceptSelf(self,nums:List[int]) -> List[int]:\n",
        "  out=[]\n",
        "  p=1\n",
        "  #왼쪽 곱셈\n",
        "  for i in range(0,len(nums)):\n",
        "    out.append(p)\n",
        "    p=p*nums[i]\n",
        "  p=1\n",
        "  #왼쪽 곱셈 결과에 오른쪽 값을 차례대로 곱셈\n",
        "  for i in range(len(nums)-1,0-1,-1):\n",
        "    out[i]=out[i]*p\n",
        "    p=p*nums[i]\n",
        "  return out"
      ],
      "metadata": {
        "id": "D3Wu3hzp82qk"
      },
      "execution_count": null,
      "outputs": []
    },
    {
      "cell_type": "markdown",
      "source": [
        "### 12.주식을 사고팔기 가장 좋은 시점"
      ],
      "metadata": {
        "id": "aNaROyDg_1Rq"
      }
    },
    {
      "cell_type": "code",
      "source": [
        "#풀이1. 브루트 포스로 계산\n",
        "def maxProfit(self,prices:List[int]) -> int:\n",
        "  max_price=0\n",
        "\n",
        "  for i,price in enumerate(prices):\n",
        "    for j in range(i,len(prices)):\n",
        "      max_price=max(prices[j]-price,max_price)\n",
        "\n",
        "  return max_price"
      ],
      "metadata": {
        "id": "HDglfXIy_8BD"
      },
      "execution_count": null,
      "outputs": []
    },
    {
      "cell_type": "code",
      "source": [
        "#풀이2. 저점과 현재 값과의 차이 계산\n",
        "def maxProfit(self,prices:List[int]) -> int:\n",
        "  profit=0\n",
        "  min_price=sys.maxsize #입력값이 []인 경우, 자칫 -sys.maxsize로 리턴될 수 있음\n",
        "\n",
        "  #최솟값과 최댓값을 계속 갱신\n",
        "  for price in prices:\n",
        "    min_price=min(min_price,price)\n",
        "    profit=max(profit,price-min_price)\n",
        "\n",
        "  return profit"
      ],
      "metadata": {
        "id": "3ShpVqkgAqo3"
      },
      "execution_count": null,
      "outputs": []
    },
    {
      "cell_type": "markdown",
      "source": [
        "## 백준 문제"
      ],
      "metadata": {
        "id": "H3PGLTVXCbgS"
      }
    },
    {
      "cell_type": "code",
      "source": [
        "#13322번 : 접두사 배열\n",
        "\n",
        "t=input()\n",
        "for i in range(len(t)):\n",
        "  print(i)"
      ],
      "metadata": {
        "colab": {
          "base_uri": "https://localhost:8080/"
        },
        "id": "YMRkiiSnrELJ",
        "outputId": "90512c51-5947-4ce7-bdc2-03d43357deec"
      },
      "execution_count": 16,
      "outputs": [
        {
          "output_type": "stream",
          "name": "stdout",
          "text": [
            "banana\n",
            "0\n",
            "1\n",
            "2\n",
            "3\n",
            "4\n",
            "5\n"
          ]
        }
      ]
    },
    {
      "cell_type": "code",
      "source": [
        "#2167번 : 2차원 배열의 합\n",
        "\n",
        "a,b = map(int,input().split())\n",
        "arr=[]\n",
        "arr2=[0]\n",
        "for i in range(a):\n",
        "  arr.extend(map(int,input().split()))\n",
        "\n",
        "for i in range(1,len(arr)+1):\n",
        "  arr2.append(sum(arr[:i]))\n",
        "\n",
        "c=int(input())\n",
        "arr2\n",
        "for i in range(c):\n",
        "  i,j,x,y=map(int,input().split())\n",
        "  print(arr2[(x-1)*3+y]-arr2[(i-1)*3+j-1])\n",
        "\n",
        "#시간초과됨 나중에 동적계획법 이용해서 풀어보기"
      ],
      "metadata": {
        "id": "YaU38zdDrRiW"
      },
      "execution_count": null,
      "outputs": []
    },
    {
      "cell_type": "code",
      "source": [
        "#11728번 : 배열 합치기\n",
        "\n",
        "n,m=map(int,input().split())\n",
        "a=list(map(int,input().split()))\n",
        "b=list(map(int,input().split()))\n",
        "\n",
        "arr=a+b\n",
        "\n",
        "print(*sorted(arr))"
      ],
      "metadata": {
        "colab": {
          "base_uri": "https://localhost:8080/"
        },
        "id": "rzlhwXx6sS3D",
        "outputId": "e554282a-5c57-4e0c-ae5c-cd61ee3616cc"
      },
      "execution_count": 55,
      "outputs": [
        {
          "name": "stdout",
          "output_type": "stream",
          "text": [
            "4 3\n",
            "2 3 5 9\n",
            "1 4 7\n"
          ]
        },
        {
          "output_type": "execute_result",
          "data": {
            "text/plain": [
              "[1, 2, 3, 4, 5, 7, 9]"
            ]
          },
          "metadata": {},
          "execution_count": 55
        }
      ]
    },
    {
      "cell_type": "code",
      "source": [
        "#11728번 : 배열 합치기\n",
        "\n",
        "n,m=map(int,input().split())\n",
        "A=list(map(int,input().split()))\n",
        "B=list(map(int,input().split()))\n",
        "ans=[]\n",
        "\n",
        "a=0\n",
        "b=0\n",
        "while a!=len(A) or b!=len(B):\n",
        "    if a==len(A): \n",
        "        ans.append(B[b])\n",
        "        b+=1\n",
        "    elif b==len(B):\n",
        "        ans.append(A[a])\n",
        "        a+=1\n",
        "    else:\n",
        "        if A[a]<B[b]:\n",
        "            ans.append(A[a])\n",
        "            a+=1\n",
        "        else:\n",
        "            ans.append(B[b])\n",
        "            b+=1\n",
        "\n",
        "print(*ans)"
      ],
      "metadata": {
        "colab": {
          "base_uri": "https://localhost:8080/"
        },
        "id": "YyM8verb_28y",
        "outputId": "0573c74b-2052-43bd-fc64-e696c086989e"
      },
      "execution_count": 64,
      "outputs": [
        {
          "output_type": "stream",
          "name": "stdout",
          "text": [
            "2 1\n",
            "4 7\n",
            "1\n",
            "0 0 []\n"
          ]
        },
        {
          "output_type": "execute_result",
          "data": {
            "text/plain": [
              "[1, 4, 7]"
            ]
          },
          "metadata": {},
          "execution_count": 64
        }
      ]
    }
  ]
}