{
  "nbformat": 4,
  "nbformat_minor": 0,
  "metadata": {
    "colab": {
      "provenance": []
    },
    "kernelspec": {
      "name": "python3",
      "display_name": "Python 3"
    },
    "language_info": {
      "name": "python"
    }
  },
  "cells": [
    {
      "cell_type": "markdown",
      "source": [
        "## 11장. 해시 테이블"
      ],
      "metadata": {
        "id": "fRE0bsnnZgX7"
      }
    },
    {
      "cell_type": "markdown",
      "source": [
        "### 28. 해시맵 디자인"
      ],
      "metadata": {
        "id": "YkskFqduZjtm"
      }
    },
    {
      "cell_type": "code",
      "execution_count": null,
      "metadata": {
        "id": "nP-J7QkIZdAW"
      },
      "outputs": [],
      "source": [
        "# 풀이1. 개별 체이닝 방식을 이용한 해시 테이블 구현\n",
        "class MyHashMap:\n",
        "    #초기화\n",
        "    def __init__(self):\n",
        "        self.size=1000\n",
        "        self.table=collections.defaultdict(ListNode)\n",
        "\n",
        "    #삽입\n",
        "    def put(self,key: int, value:int) -> None:\n",
        "        index=key%self.size\n",
        "        #인덱스에 노드가 없다면 삽입 후 종료\n",
        "        if self.table[index].value is None:\n",
        "            self.table[index]=ListNode(key,value)\n",
        "            return\n",
        "\n",
        "        #인덱스에 노드가 존재하는 경우 연결 리스트 처리\n",
        "        p=self.table[index]\n",
        "        while p:\n",
        "            if p.key==key:\n",
        "                p.value=value\n",
        "                return\n",
        "            if p.next is None:\n",
        "                break\n",
        "            p=p.next\n",
        "        p.next=ListNode(key,value)\n",
        "    \n",
        "    #조회\n",
        "    def get(self, key:int) -> int:\n",
        "        index=key%self.size\n",
        "        if self.table[index].value is None:\n",
        "            return -1\n",
        "        \n",
        "        #노드가 존재할 때 일치하는 키 탐색\n",
        "        p=self.table[index]\n",
        "        while p:\n",
        "            if p.key==key:\n",
        "                return p.value\n",
        "            p=p.next\n",
        "        return -1\n",
        "\n",
        "    #삭제\n",
        "    def remove(self,key:int) -> None:\n",
        "        index=key%self.size\n",
        "        if self.table[index].value is None:\n",
        "            return\n",
        "        \n",
        "        #인덱스의 첫 번째 노드일 때 삭제 처리\n",
        "        p=self.table[index]\n",
        "        if p.key==key:\n",
        "            self.table[index]=ListNode() if p.next is None else p.next\n",
        "            return\n",
        "\n",
        "        #연결 리스트 노드 삭제\n",
        "        prev=p\n",
        "        while p:\n",
        "            if p.key==key:\n",
        "                prev.next=p.next\n",
        "                return\n",
        "            prev,p=p,p.next"
      ]
    },
    {
      "cell_type": "markdown",
      "source": [
        "### 29. 보석과 돌"
      ],
      "metadata": {
        "id": "UKyjnuC_wXoZ"
      }
    },
    {
      "cell_type": "code",
      "source": [
        "#풀이1. 해시 테이블을 이용한 풀이\n",
        "\n",
        "def numJewelsInstones(self,J:str,S:str) -> int:\n",
        "    freqs={}\n",
        "    count=0\n",
        "\n",
        "    #돌(S)의 빈도 수 계산\n",
        "    for char in S:\n",
        "        if char not in freqs:\n",
        "            freqs[char]=1\n",
        "        else:\n",
        "            freqs[char]+=1\n",
        "\n",
        "    #보석(J)의 빈도 수 합산\n",
        "    for char in J:\n",
        "        if char in freqs:\n",
        "            count+=freqs[char]\n",
        "\n",
        "    return count"
      ],
      "metadata": {
        "id": "NNvIbJEDwZPR"
      },
      "execution_count": null,
      "outputs": []
    },
    {
      "cell_type": "code",
      "source": [
        "#풀이2. defaultdict를 이용한 비교 생랼\n",
        "\n",
        "def numJewelsInStones(self, J:str, S:str)-> int:\n",
        "    freqs=collections.defaultdict(int)\n",
        "    count=0\n",
        "\n",
        "    #비교 없이 돌(S) 빈도 수 계산\n",
        "    for char in S:\n",
        "        freqs[char]+=1\n",
        "    \n",
        "    #비교 없이 보석(J) 빈도 수 합산\n",
        "    for char in J:\n",
        "        count+=freqs[char]\n",
        "\n",
        "    return count"
      ],
      "metadata": {
        "id": "4VTcIqSCxqaD"
      },
      "execution_count": null,
      "outputs": []
    },
    {
      "cell_type": "code",
      "source": [
        "#풀이3. Counter로 계산 생략\n",
        "\n",
        "def numJewelsInStones(self, J:str, S:str)-> int:\n",
        "    freqs=collections.Counter(S) #돌(S) 빈도 수 곗나\n",
        "    count=0\n",
        "\n",
        "    #비교없이 보석(J) 빈도 수 합산\n",
        "    for char in J:\n",
        "        count+=freqs[char]\n",
        "\n",
        "    return count"
      ],
      "metadata": {
        "id": "po1d-mu9xt-H"
      },
      "execution_count": null,
      "outputs": []
    },
    {
      "cell_type": "code",
      "source": [
        "#풀이4. 파이썬다운 방식\n",
        "\n",
        "def numJewelsInStones(self, J:str, S:str)-> int:\n",
        "    return sum(s in J for s in S)"
      ],
      "metadata": {
        "id": "LjsrEtMGyAks"
      },
      "execution_count": null,
      "outputs": []
    },
    {
      "cell_type": "markdown",
      "source": [
        "### 30. 중복 문자 없는 가장 긴 부분 문자열"
      ],
      "metadata": {
        "id": "Ufde8VzMyg33"
      }
    },
    {
      "cell_type": "code",
      "source": [
        "#풀이1. 슬라이딩 윈도우와 투 포인터로 사이즈 조절\n",
        "\n",
        "def lengthOfLongestSubstring(self,s:str) -> int:\n",
        "    used={}\n",
        "    max_length=start=0\n",
        "    for index,char in enumerate(s):\n",
        "        #이미 등장했던 문자라면 'start' 위치 갱신\n",
        "        if char in used and start <= used[char]:\n",
        "            start=used[char]+1\n",
        "        else: #최대 부분 문자열 길이 갱신\n",
        "            max_length=max(max_length,index-start+1)\n",
        "\n",
        "        #현재 문자와 위치 삽입\n",
        "        used[char]=index\n",
        "\n",
        "    return max_length"
      ],
      "metadata": {
        "id": "I9SzFMcfykQ-"
      },
      "execution_count": null,
      "outputs": []
    },
    {
      "cell_type": "markdown",
      "source": [
        "### 상위 K빈도 요소"
      ],
      "metadata": {
        "id": "I4zJxTUl0UlQ"
      }
    },
    {
      "cell_type": "code",
      "source": [
        "#풀이1. Counter를 이용한 음수 순 추출\n",
        "\n",
        "def topFrequent(self, nums:List[int], k:int) -> List[int]:\n",
        "    freqs=collections.Counter(nums)\n",
        "    freqs_heap=[]\n",
        "    #힙에 음수로 삽입\n",
        "    for f in freqs:\n",
        "        heapq.heappush(freqs_heap, (-freqs[f],f))\n",
        "\n",
        "    topk=list()\n",
        "    #k번 만큼 추출, 최소 힙(Min Heap)이므로 가장 작은 음수 순으로 추출\n",
        "    for _ in range(k):\n",
        "        topk.append(heapq.heappop(freqs_heap))[1]"
      ],
      "metadata": {
        "id": "7aIYSqIo0W8T"
      },
      "execution_count": null,
      "outputs": []
    },
    {
      "cell_type": "code",
      "source": [
        "#풀이2. 파이썬다운 방식\n",
        "\n",
        "def topFrequent(self, nums, k):\n",
        "    return list(zip(*collections.Counter(nums).most_common(k)))[0]"
      ],
      "metadata": {
        "id": "bJdmgsuv0-rM"
      },
      "execution_count": null,
      "outputs": []
    },
    {
      "cell_type": "markdown",
      "source": [
        "### 프로그래머스 : 위장"
      ],
      "metadata": {
        "id": "6lQQ9-7I4_lW"
      }
    },
    {
      "cell_type": "code",
      "source": [
        "import collections\n",
        "def solution(clothes):\n",
        "    answer=1\n",
        "    closet=collections.defaultdict(int)\n",
        "    for i in clothes:\n",
        "        closet[i[1]]+=1\n",
        "    for i in closet.keys():\n",
        "        answer*=closet[i]+1\n",
        "    return answer-1"
      ],
      "metadata": {
        "colab": {
          "base_uri": "https://localhost:8080/"
        },
        "id": "He5XQp-X2brL",
        "outputId": "c2743712-fe49-4df7-e25d-723da801e9aa"
      },
      "execution_count": 10,
      "outputs": [
        {
          "output_type": "stream",
          "name": "stdout",
          "text": [
            "5\n"
          ]
        }
      ]
    }
  ]
}