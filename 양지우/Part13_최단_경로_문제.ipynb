{
  "nbformat": 4,
  "nbformat_minor": 0,
  "metadata": {
    "colab": {
      "provenance": []
    },
    "kernelspec": {
      "name": "python3",
      "display_name": "Python 3"
    },
    "language_info": {
      "name": "python"
    }
  },
  "cells": [
    {
      "cell_type": "markdown",
      "source": [
        "## 13장. 최단 경로 문제"
      ],
      "metadata": {
        "id": "y8euR8Wjcxum"
      }
    },
    {
      "cell_type": "markdown",
      "source": [
        "### 40. 네트워크 딜레이 타임"
      ],
      "metadata": {
        "id": "m_4ZOsT9c4Eb"
      }
    },
    {
      "cell_type": "code",
      "execution_count": null,
      "metadata": {
        "id": "z5O_xEPQcwOV"
      },
      "outputs": [],
      "source": [
        "#풀이1. 다익스트라 알고리즘 구현\n",
        "def networkDelayTime(self, times:List[LIst[int]], N:int, K:int) -> int:\n",
        "    graph=collections.defaultdict(list)\n",
        "    #그래프 인접 리스트 구성\n",
        "    for u,v,w in times:\n",
        "        graph[u].append((v,w))\n",
        "\n",
        "    #큐 변수 : [(소요 시간, 정점)]\n",
        "    Q=[(0,k)]\n",
        "    dist=collections.defaultdict(int)\n",
        "\n",
        "    #우선순위 큐 최솟값 기준으로 정점까지 최단 경로 삽입\n",
        "    while 0:\n",
        "        time,node=heapq.heappop(0)\n",
        "        if node not in dist:\n",
        "            dist[node]=time\n",
        "            for v,w in graph[node]:\n",
        "                alt=time+w\n",
        "                heapq.heappush(Q,(alt,v))\n",
        "\n",
        "    #모든 노드의 최단 경로 존재 여부 판별\n",
        "    if len(dist)==N:\n",
        "        return max(dist.values())\n",
        "\n",
        "    return -1"
      ]
    },
    {
      "cell_type": "markdown",
      "source": [
        "### 41. K 경유지 내 가장 저렴한 항공권"
      ],
      "metadata": {
        "id": "W8Zbo5eydsvw"
      }
    },
    {
      "cell_type": "code",
      "source": [
        "#풀이1. 다익스트라 알고리즘 응용\n",
        "def findCheapestPrice(self, n:int,flights:List[List[int]],src:int, dst:int, K:int) -> int:\n",
        "    graph=collections.defaultdict(list)\n",
        "    #그래프 인접 리스트 구성\n",
        "    for u,v,w in flights:\n",
        "        graph[u].append((v,w))\n",
        "\n",
        "    #큐 변수:[(가격, 정점, 남은 가능 경유지 수)]\n",
        "    Q=[(0,src,K)]\n",
        "\n",
        "    #우선순위 큐 최솟값 기준으로 도착점까지 최소 비용 판별\n",
        "    while Q:\n",
        "        price,node,k=heapq.heappop(Q)\n",
        "        if node==dst:\n",
        "            return price\n",
        "        if k>=0:\n",
        "            for v,w in graph[node]:\n",
        "                alt=price+w\n",
        "                heapq.heappush(Q,(alt,v,k-1))\n",
        "\n",
        "    return -1"
      ],
      "metadata": {
        "id": "oS6Xtzfydu7_"
      },
      "execution_count": null,
      "outputs": []
    }
  ]
}