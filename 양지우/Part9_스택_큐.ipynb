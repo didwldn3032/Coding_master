{
  "nbformat": 4,
  "nbformat_minor": 0,
  "metadata": {
    "colab": {
      "provenance": []
    },
    "kernelspec": {
      "name": "python3",
      "display_name": "Python 3"
    },
    "language_info": {
      "name": "python"
    }
  },
  "cells": [
    {
      "cell_type": "code",
      "execution_count": null,
      "metadata": {
        "id": "UrkICRAQ6rL6"
      },
      "outputs": [],
      "source": [
        "import math\n",
        "def solution(progresses, speeds):\n",
        "    answer = []\n",
        "    max=0\n",
        "    cnt=0\n",
        "    for i in range(len(progresses)):\n",
        "        num=math.ceil((100-progresses[i])/speeds[i])\n",
        "        print(num,max)\n",
        "        if max>=num:\n",
        "            cnt+=1\n",
        "        else:\n",
        "            max=num\n",
        "            answer.append(cnt)\n",
        "            cnt=1\n",
        "    answer.append(cnt)\n",
        "\n",
        "    return answer[1:]"
      ]
    }
  ]
}