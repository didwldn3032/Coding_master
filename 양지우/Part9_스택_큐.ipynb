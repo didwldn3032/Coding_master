{
  "nbformat": 4,
  "nbformat_minor": 0,
  "metadata": {
    "colab": {
      "provenance": []
    },
    "kernelspec": {
      "name": "python3",
      "display_name": "Python 3"
    },
    "language_info": {
      "name": "python"
    }
  },
  "cells": [
    {
      "cell_type": "markdown",
      "source": [
        "## 9장 스택/큐"
      ],
      "metadata": {
        "id": "UaCSF0auGx-s"
      }
    },
    {
      "cell_type": "markdown",
      "source": [
        "### 연결 리스트를 이용한 스택 ADT 구현"
      ],
      "metadata": {
        "id": "e0aw5C5EHGlh"
      }
    },
    {
      "cell_type": "code",
      "source": [
        "class Node:\n",
        "  def __init__(self, item, next):\n",
        "    self.item=item\n",
        "    self.next=next\n",
        "  \n",
        "class Stack:\n",
        "  def __init__(self):\n",
        "    self.last=None\n",
        "\n",
        "  def push(self, item):\n",
        "    self.last=Node(item,self.last)\n",
        "  \n",
        "  def pop(self):\n",
        "    item=self.last.item\n",
        "    self.last=self.last.next\n",
        "    return item  "
      ],
      "metadata": {
        "id": "pyW16EV5GxVU"
      },
      "execution_count": null,
      "outputs": []
    },
    {
      "cell_type": "markdown",
      "source": [
        "### 유효한 괄호"
      ],
      "metadata": {
        "id": "zZ4dWrnSKs3t"
      }
    },
    {
      "cell_type": "code",
      "source": [
        "#풀이1. 스택 일치 여부 판별\n",
        "def isValid(s:str) -> bool:\n",
        "  stack=[]\n",
        "  table={\n",
        "      ')':'(',\n",
        "      '}':'{',\n",
        "      ']':'[',\n",
        "  }\n",
        "  for char in s:\n",
        "    if char not in table:\n",
        "      stack.append(char)\n",
        "    elif not stack or table[char]!=stack.pop():\n",
        "      return False\n",
        "    print(stack)\n",
        "    \n",
        "  return len(stack)==0"
      ],
      "metadata": {
        "id": "wLQkld6lKvVD"
      },
      "execution_count": null,
      "outputs": []
    },
    {
      "cell_type": "markdown",
      "source": [
        "### 21. 중복 문자 제거"
      ],
      "metadata": {
        "id": "StmHMV51PdLu"
      }
    },
    {
      "cell_type": "code",
      "source": [
        "#풀이1. 재귀를 이용한 분리\n",
        "def removeDuplicateLetters(s:str) -> str:\n",
        "  #집합으로 정렬\n",
        "  for char in sorted(set(s)):\n",
        "    suffix=s[s.index(char):]\n",
        "    #전체 집합과 접미사 집합이 일치할 때 분리 진행\n",
        "    if set(s)==set(suffix):\n",
        "      return char+removeDuplicateLetters(suffix.replace(char,''))\n",
        "  return ''"
      ],
      "metadata": {
        "id": "a-1ZvdNxP6Tp"
      },
      "execution_count": null,
      "outputs": []
    },
    {
      "cell_type": "code",
      "source": [
        "#풀이2. 스택을 이용한 문자 제거\n",
        "import collections\n",
        "def removeDuplicateLetters(s:str) -> str:\n",
        "  counter,seen,stack=collections.Counter(s),set(),[]\n",
        "  \n",
        "  for char in s:\n",
        "    counter[char]-=1\n",
        "    if char in seen:\n",
        "      continue\n",
        "    #뒤에 붙일 문자가 남아 있다면 스택에서 제거\n",
        "    while stack and char < stack[-1] and counter[stack[-1]]>0:\n",
        "      seen.remove(stack.pop())\n",
        "    stack.append(char)\n",
        "    seen.add(char)\n",
        "    print(stack,seen)\n",
        "  return ''.join(stack)"
      ],
      "metadata": {
        "id": "BZiX_cjvT52m"
      },
      "execution_count": null,
      "outputs": []
    },
    {
      "cell_type": "markdown",
      "source": [
        "### 22. 일일 온도"
      ],
      "metadata": {
        "id": "uORDnIExXaaz"
      }
    },
    {
      "cell_type": "code",
      "source": [
        "#풀이1. 스택 값 비교\n",
        "def dailyTemperatures(T:List[int]) -> List[int]:\n",
        "  answer=[0]*len(T)\n",
        "  stack=[]\n",
        "  for i,cur in enumerate(T):\n",
        "    #현재 온도가 스택 값보다 높다면 정답 처리\n",
        "    while stack and cur > T[stack[-1]]:\n",
        "      last=stack.pop()\n",
        "      answer[last]=i-last\n",
        "    stack.append(i)\n",
        "  \n",
        "  return answer"
      ],
      "metadata": {
        "id": "o4CP-TSAW6ZB"
      },
      "execution_count": null,
      "outputs": []
    },
    {
      "cell_type": "markdown",
      "source": [
        "### 23. 큐를 이용한 스택 구현"
      ],
      "metadata": {
        "id": "j7ZBofDwZk99"
      }
    },
    {
      "cell_type": "code",
      "source": [
        "class MyStack:\n",
        "  def __init__(self):\n",
        "    self.q=collections.deque()\n",
        "\n",
        "  def push(self,x):\n",
        "    self.q.append(x)\n",
        "    #요소 삽입 후 맨 앞에 두는 상태로 재정렬\n",
        "    for _ in range(len(self.q)-1):\n",
        "      self.q.append(self.q.popleft())\n",
        "    \n",
        "  def pop(self):\n",
        "    return self.q.popleft()\n",
        "  \n",
        "  def top(self):\n",
        "    return self.q[0]\n",
        "  \n",
        "  def empty(self):\n",
        "    return len(self.q)==0"
      ],
      "metadata": {
        "id": "jX_GD7sUZoyW"
      },
      "execution_count": null,
      "outputs": []
    },
    {
      "cell_type": "code",
      "source": [
        "import collections\n",
        "q=collections.deque()\n",
        "q.append('a')\n",
        "\n",
        "for _ in range(len(q)-1):\n",
        "   q.append(q.popleft())\n",
        "   print(q)\n",
        "\n",
        "q.append('b')\n",
        "for _ in range(len(q)-1):\n",
        "   q.append(q.popleft())\n",
        "   print(q)\n",
        "\n",
        "q.append('c')\n",
        "for _ in range(len(q)-1):\n",
        "   q.append(q.popleft())\n",
        "   print(q)"
      ],
      "metadata": {
        "colab": {
          "base_uri": "https://localhost:8080/"
        },
        "id": "rUhEYJYcbLOG",
        "outputId": "d72fae2a-9278-4ee4-fa19-3cdc9eff4bd8"
      },
      "execution_count": null,
      "outputs": [
        {
          "output_type": "stream",
          "name": "stdout",
          "text": [
            "deque(['b', 'a'])\n",
            "deque(['a', 'c', 'b'])\n",
            "deque(['c', 'b', 'a'])\n"
          ]
        }
      ]
    },
    {
      "cell_type": "markdown",
      "source": [
        "### 24. 스택을 이용한 큐 구현"
      ],
      "metadata": {
        "id": "FatA8BCnae5c"
      }
    },
    {
      "cell_type": "code",
      "source": [
        "class MyQueue:\n",
        "  def __init__(self):\n",
        "    self.input=[]\n",
        "    self.output=[]\n",
        "\n",
        "  def push(self,x):\n",
        "    self.input.append(x)\n",
        "  \n",
        "  def pop(self):\n",
        "    self.peek()\n",
        "    return self.output.pop()\n",
        "  \n",
        "  def peek(self):\n",
        "    #output이 없으면 모두 재입력\n",
        "    if not self.output:\n",
        "      while self.input:\n",
        "        self.output.append(self.input.pop())\n",
        "    return self.output[-1]\n",
        "\n",
        "  def empty(self):\n",
        "    return self.input==[] and self.output==[]"
      ],
      "metadata": {
        "id": "ehCAIXXDag46"
      },
      "execution_count": null,
      "outputs": []
    },
    {
      "cell_type": "markdown",
      "source": [
        "### 25. 원형 큐 디자인"
      ],
      "metadata": {
        "id": "AkZ7pudNdY__"
      }
    },
    {
      "cell_type": "code",
      "source": [
        "#풀이1. 배열을 이용한 풀이\n",
        "\n",
        "class MyCircularQueue:\n",
        "  def __init__(self,k:int):\n",
        "    self.q=[None]*k\n",
        "    self.maxlen=k\n",
        "    self.p1=0\n",
        "    self,p2=0\n",
        "\n",
        "  #enQueue():rear 포인터 이용\n",
        "  def enQueue(self,value:int)->bool:\n",
        "    if self.q[self.p2] is None:\n",
        "      self.q[self.p2]=value\n",
        "      self.p2=(self.p2+1)%self.maxlen\n",
        "      return True\n",
        "    else:\n",
        "      return False\n",
        "  \n",
        "  #deQueue() : front 포인터 이용\n",
        "  def deQueue(self) -> bool:\n",
        "    if self.q[self.p2] is None:\n",
        "      return False\n",
        "    else:\n",
        "      self.q[self.p2]=None\n",
        "      self.p1=(self.p1+1)%self.maxlen\n",
        "      return True\n",
        "    \n",
        "  def Front(self) -> int:\n",
        "    return -1 if self.q[self.p1] is None else self.q[self.p1]\n",
        "  \n",
        "  def Rear(self) -> int:\n",
        "    return -1 if self.q[self.p2-1] is None else self.q[self.p2-1]\n",
        "\n",
        "  def isEmpty(self) -> bool:\n",
        "    return self.p1 == self.p2 and self.q[self.p1] is None\n",
        "\n",
        "  def isFull(self) -> bool:\n",
        "    return self.p1 == self.p2 and self.q[self.p1] is not None"
      ],
      "metadata": {
        "id": "i6wN7u9vdYdq"
      },
      "execution_count": null,
      "outputs": []
    },
    {
      "cell_type": "markdown",
      "source": [
        "## 프로그래머스 : 기능개발"
      ],
      "metadata": {
        "id": "L5luYaTnOyN-"
      }
    },
    {
      "cell_type": "code",
      "source": [
        "import math\n",
        "def solution(progresses, speeds):\n",
        "    max=0\n",
        "    cnt=0\n",
        "    result=[]\n",
        "\n",
        "    day=[math.ceil((100-z)/s) for s,z in zip(speeds,progresses)]\n",
        "    for i in day:\n",
        "        if i>max:\n",
        "            result.append(cnt)\n",
        "            cnt=1\n",
        "            max=i\n",
        "        else:\n",
        "            cnt+=1\n",
        "\n",
        "    result.append(cnt)\n",
        "\n",
        "    return result[1:]"
      ],
      "metadata": {
        "id": "6OI2C0sGOxlt"
      },
      "execution_count": null,
      "outputs": []
    }
  ]
}