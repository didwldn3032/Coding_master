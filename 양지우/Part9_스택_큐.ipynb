{
  "nbformat": 4,
  "nbformat_minor": 0,
  "metadata": {
    "colab": {
      "provenance": []
    },
    "kernelspec": {
      "name": "python3",
      "display_name": "Python 3"
    },
    "language_info": {
      "name": "python"
    }
  },
  "cells": [
    {
      "cell_type": "code",
      "execution_count": null,
      "metadata": {
        "id": "UrkICRAQ6rL6"
      },
      "outputs": [],
      "source": [
        "import math\n",
        "def solution(progresses, speeds):\n",
        "    answer = []\n",
        "    max=0\n",
        "    cnt=0\n",
        "    for i in range(len(progresses)):\n",
        "        num=math.ceil((100-progresses[i])/speeds[i])\n",
        "        print(num,max)\n",
        "        if max>=num:\n",
        "            cnt+=1\n",
        "        else:\n",
        "            max=num\n",
        "            answer.append(cnt)\n",
        "            cnt=1\n",
        "    answer.append(cnt)\n",
        "\n",
        "    return answer[1:]"
      ]
    },
    {
      "cell_type": "markdown",
      "source": [
        "## 9장 스택/큐"
      ],
      "metadata": {
        "id": "UaCSF0auGx-s"
      }
    },
    {
      "cell_type": "markdown",
      "source": [
        "### 연결 리스트를 이용한 스택 ADT 구현"
      ],
      "metadata": {
        "id": "e0aw5C5EHGlh"
      }
    },
    {
      "cell_type": "code",
      "source": [
        "class Node:\n",
        "  def __init__(self, item, next):\n",
        "    self.item=item\n",
        "    self.next=next\n",
        "  \n",
        "class Stack:\n",
        "  def __init__(self):\n",
        "    self.last=None\n",
        "\n",
        "  def push(self, item):\n",
        "    self.last=Node(item,self.last)\n",
        "  \n",
        "  def pop(self):\n",
        "    item=self.last.item\n",
        "    self.last=self.last.next\n",
        "    return item  "
      ],
      "metadata": {
        "id": "pyW16EV5GxVU"
      },
      "execution_count": null,
      "outputs": []
    },
    {
      "cell_type": "markdown",
      "source": [
        "### 유효한 괄호"
      ],
      "metadata": {
        "id": "zZ4dWrnSKs3t"
      }
    },
    {
      "cell_type": "code",
      "source": [
        "#풀이1. 스택 일치 여부 판별\n",
        "def isValid(s:str) -> bool:\n",
        "  stack=[]\n",
        "  table={\n",
        "      ')':'(',\n",
        "      '}':'{',\n",
        "      ']':'[',\n",
        "  }\n",
        "  for char in s:\n",
        "    if char not in table:\n",
        "      stack.append(char)\n",
        "    elif not stack or table[char]!=stack.pop():\n",
        "      return False\n",
        "    print(stack)\n",
        "    \n",
        "  return len(stack)==0"
      ],
      "metadata": {
        "id": "wLQkld6lKvVD"
      },
      "execution_count": 11,
      "outputs": []
    },
    {
      "cell_type": "markdown",
      "source": [
        "### 중복 문자 제거"
      ],
      "metadata": {
        "id": "StmHMV51PdLu"
      }
    },
    {
      "cell_type": "code",
      "source": [
        "#풀이1. 재귀를 이용한 분리\n",
        "def removeDuplicateLetters(s:str) -> str:\n",
        "  #집합으로 정렬\n",
        "  for char in sorted(set(s)):\n",
        "    suffix=s[s.index(char):]\n",
        "    #전체 집합과 접미사 집합이 일치할 때 분리 진행\n",
        "    if set(s)==set(suffix):\n",
        "      return char+removeDuplicateLetters(suffix.replace(char,''))\n",
        "  return ''"
      ],
      "metadata": {
        "id": "a-1ZvdNxP6Tp"
      },
      "execution_count": null,
      "outputs": []
    },
    {
      "cell_type": "code",
      "source": [
        "#풀이2. 스택을 이용한 문자 제거\n",
        "import collections\n",
        "def removeDuplicateLetters(s:str) -> str:\n",
        "  counter,seen,stack=collections.Counter(s),set(),[]\n",
        "  \n",
        "  for char in s:\n",
        "    counter[char]-=1\n",
        "    if char in seen:\n",
        "      continue\n",
        "    #뒤에 붙일 문자가 남아 있다면 스택에서 제거\n",
        "    while stack and char < stack[-1] and counter[stack[-1]]>0:\n",
        "      seen.remove(stack.pop())\n",
        "    stack.append(char)\n",
        "    seen.add(char)\n",
        "    print(stack,seen)\n",
        "  return ''.join(stack)"
      ],
      "metadata": {
        "id": "BZiX_cjvT52m"
      },
      "execution_count": 19,
      "outputs": []
    },
    {
      "cell_type": "code",
      "source": [],
      "metadata": {
        "id": "o4CP-TSAW6ZB"
      },
      "execution_count": null,
      "outputs": []
    }
  ]
}