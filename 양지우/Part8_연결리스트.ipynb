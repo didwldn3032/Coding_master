{
  "nbformat": 4,
  "nbformat_minor": 0,
  "metadata": {
    "colab": {
      "provenance": []
    },
    "kernelspec": {
      "name": "python3",
      "display_name": "Python 3"
    },
    "language_info": {
      "name": "python"
    }
  },
  "cells": [
    {
      "cell_type": "markdown",
      "source": [
        "## 책 문제"
      ],
      "metadata": {
        "id": "CIpJWwW68vqe"
      }
    },
    {
      "cell_type": "markdown",
      "source": [
        "### 13. 팰린드롬 연결 리스트"
      ],
      "metadata": {
        "id": "SIwB9J-J8rTa"
      }
    },
    {
      "cell_type": "code",
      "execution_count": null,
      "metadata": {
        "id": "osC4A-zXdntE"
      },
      "outputs": [],
      "source": [
        "#풀이1. 리스트 변환\n",
        "def isPalindrome(self, head: ListNode) -> bool:\n",
        "  q: List=[]\n",
        "\n",
        "  if not head:\n",
        "    return True\n",
        "\n",
        "  node=head\n",
        "  #리스트 변환\n",
        "  while node is not None:\n",
        "    q.append(node.val)\n",
        "    node=node.next\n",
        "\n",
        "  #팰린드롬 판별\n",
        "  while len(q)>1:\n",
        "    if q.pop(0)!=q.pop():\n",
        "      return False\n",
        "\n",
        "  return True"
      ]
    },
    {
      "cell_type": "code",
      "source": [
        "#풀이2. 데크를 이용한 최적화\n",
        "def isPalindrome(self, head: ListNode) -> bool:\n",
        "  #데크 자료형 선언\n",
        "  q:Deque=colletions.deque()\n",
        "\n",
        "  if not head:\n",
        "    return True\n",
        "  \n",
        "  node=head\n",
        "  while node is not None:\n",
        "    q.append(node.val)\n",
        "    node=node.next\n",
        "\n",
        "  while len(q)>1:\n",
        "    if q.popleft()!=q.pop():\n",
        "      return False\n",
        "  return True"
      ],
      "metadata": {
        "id": "lVNbLd94eCSZ"
      },
      "execution_count": null,
      "outputs": []
    },
    {
      "cell_type": "code",
      "source": [
        "#풀이3. 런너를 이용한 우아한 풀이\n",
        "def isPalindrome(self, head: ListNode) -> bool:\n",
        "  rev=None\n",
        "  slow=fast=head\n",
        "  #런너를 이용해 역순 연결 리스트 구성\n",
        "  while fast and fast.next:\n",
        "    fast=fast.next.next\n",
        "    rev,rev.next,slow=slow,rev,slow.next\n",
        "\n",
        "  is fast:\n",
        "    slow=slow.next\n",
        "  \n",
        "  #팰린드롬 여부 확인\n",
        "  while rev and rev.val==slow.val:\n",
        "    slow.val = slow.next, rev.next\n",
        "  \n",
        "  return not rev"
      ],
      "metadata": {
        "id": "Y7MW42RKeW4h"
      },
      "execution_count": null,
      "outputs": []
    },
    {
      "cell_type": "markdown",
      "source": [
        "### 14.두 정렬 리스트의 병합"
      ],
      "metadata": {
        "id": "83eZKySM-yam"
      }
    },
    {
      "cell_type": "code",
      "source": [
        "#풀이1. 재귀 구조로 연결\n",
        "def mergeTwoLists(self,l1=ListNode, l2:ListNode) -> ListNode:\n",
        "  if(not l1) or (l1 and l1.val > l2.val):\n",
        "    l1,l2=l2,l1\n",
        "  if l1:\n",
        "    l1.next=self.mergeTwoLists(l1.next,l2)\n",
        "  return l1"
      ],
      "metadata": {
        "id": "FwwEZTjcfCx1"
      },
      "execution_count": null,
      "outputs": []
    },
    {
      "cell_type": "markdown",
      "source": [
        "### 15. 역순 연결 리스트"
      ],
      "metadata": {
        "id": "wmNaW5Y0fY7t"
      }
    },
    {
      "cell_type": "code",
      "source": [
        "#풀이1. 재귀 구조로 뒤집기\n",
        "def reverseList(self, head:ListNode) -> ListNode:\n",
        "  def reverse(node:ListNode, prev:ListNode=None):\n",
        "    if not node:\n",
        "      return prev\n",
        "    next,node.next=node.next,prev\n",
        "    return reverse(next,node)\n",
        "  \n",
        "  return reverse(head)"
      ],
      "metadata": {
        "id": "cSWszyI7fWfH"
      },
      "execution_count": null,
      "outputs": []
    },
    {
      "cell_type": "code",
      "source": [
        "#풀이2. 반복 구조로 뒤집기\n",
        "def reverseList(self, head:ListNode) -> ListNode:\n",
        "  node,prev=head,None\n",
        "\n",
        "  while node:\n",
        "    next,node.next=node.next,prev\n",
        "    prev,node=node.next\n",
        "\n",
        "  return prev"
      ],
      "metadata": {
        "id": "fz5t1oUJfvrp"
      },
      "execution_count": null,
      "outputs": []
    },
    {
      "cell_type": "markdown",
      "source": [
        "### 16. 두 수의 덧셈"
      ],
      "metadata": {
        "id": "fndRorZqf81Z"
      }
    },
    {
      "cell_type": "code",
      "source": [
        "#풀이1. 자료형 변환\n",
        "class Solution:\n",
        "  #연결 리스트 뒤집기\n",
        "  def reverseList(self, head:ListNode) -> ListNode:\n",
        "    node,prev=head,None\n",
        "\n",
        "    while node:\n",
        "      next,node.next=node.next,prev\n",
        "      prev,node=node.next\n",
        "    \n",
        "    return prev\n",
        "\n",
        "  #연결 리스트를 파이썬 리스트로 변환\n",
        "  def toList(self, node:ListNode) -> List:\n",
        "    list:List=[]\n",
        "    while node:\n",
        "      list.append(node.val)\n",
        "      node=node.next\n",
        "    return list\n",
        "\n",
        "  #파이썬 리스트를 연결 리스트로 변환\n",
        "  def toReverseLinked(self,result:str) -> ListNode:\n",
        "    prev:ListNode=Nonde\n",
        "    for r in result:\n",
        "      node=ListNode()\n",
        "      node.next=prev\n",
        "      prev=node\n",
        "    \n",
        "    return node\n",
        "  \n",
        "  #두 연결 리스트의 덧셈\n",
        "  def addTwoNumbers(self,l1:ListNode,l2:ListNode) ->  ListNode:\n",
        "    a=self.toList(self.reverseLisst(l1))\n",
        "    b=self.toList(self.reverseLisst(l2))\n",
        "\n",
        "    resultStr=int('',join(str(e) for e in a)) +\\\n",
        "              int('',join(str(e) for e in b))\n",
        "    #최종 계산 결과 연결 리스트 변환\n",
        "    return self.toReverseLinkedList(str(resultStr))"
      ],
      "metadata": {
        "id": "ANc_gqWBf-Ro"
      },
      "execution_count": null,
      "outputs": []
    },
    {
      "cell_type": "code",
      "source": [
        "#전가산기 구현\n",
        "def addTwoNumbers(self,l1:ListNode,l2:ListNode) -> ListNode:\n",
        "  root=head=ListNode(0)\n",
        "\n",
        "  carry=0\n",
        "  while l1 or l2 carry:\n",
        "    sum=0\n",
        "    #두 입력값의 합 계산\n",
        "    if l1:\n",
        "      sum+=l1.val\n",
        "      l1=l1.next\n",
        "    if l2:\n",
        "      sum+=l2.val\n",
        "      l2=l2.val\n",
        "    \n",
        "    #몫(자리올림수)과 나머지(값) 계산\n",
        "    carry,val=divmod(sum+carry,10)\n",
        "    head.next=ListNode(val)\n",
        "    head=head.next\n",
        "\n",
        "  return root.next"
      ],
      "metadata": {
        "id": "WY7HS-KVhHT3"
      },
      "execution_count": null,
      "outputs": []
    },
    {
      "cell_type": "markdown",
      "source": [
        "### 17. 페어의 노드 스왑"
      ],
      "metadata": {
        "id": "Gm0f6vz4hlqE"
      }
    },
    {
      "cell_type": "code",
      "source": [
        "#풀이1. 값만 교환\n",
        "def swapPairs(self,head:ListNode) -> ListNode:\n",
        "  cur=head\n",
        "\n",
        "  while cur and cur.next:\n",
        "    #값만 교환\n",
        "    cur.val, cur.next.val=cur.next.val, cur.val\n",
        "    cur=cur.next.next\n",
        "  \n",
        "  return head"
      ],
      "metadata": {
        "id": "OSHfwIDLhjw-"
      },
      "execution_count": null,
      "outputs": []
    },
    {
      "cell_type": "code",
      "source": [
        "#풀이2. 반복 구조로 스왑\n",
        "def swapPairs(self,head:ListNode) -> ListNode:\n",
        "  root=prev=ListNode(None)\n",
        "  prev.next=head\n",
        "  while head and head.next:\n",
        "    #b가 a(head)를 가리키도록 할당\n",
        "    b=head.next\n",
        "    head.next=b.next\n",
        "    b.next=head\n",
        "\n",
        "    #prev가 b를 가리키도록 할당\n",
        "    prev.next=b\n",
        "\n",
        "    #다음번 비교를 위해 이동\n",
        "    head=head.next\n",
        "    prev=prev.next.next\n",
        "\n",
        "  return root.next"
      ],
      "metadata": {
        "id": "9PH-kgHBh1jW"
      },
      "execution_count": null,
      "outputs": []
    },
    {
      "cell_type": "code",
      "source": [
        "#풀이3. 재귀 구조로 스왑\n",
        "def swapPairs(self,head:ListNode) -> ListNode:\n",
        "  if head and head.next:\n",
        "    p=head.next\n",
        "    #스왑된 값 리턴 받음\n",
        "    head.next=self.swapPairs(p.next)\n",
        "    p.next=head\n",
        "    return p\n",
        "  return head"
      ],
      "metadata": {
        "id": "Y5__UiLriPdg"
      },
      "execution_count": null,
      "outputs": []
    },
    {
      "cell_type": "markdown",
      "source": [
        "### 18. 홀짝 연결 리스트"
      ],
      "metadata": {
        "id": "JDrqoZnPif2A"
      }
    },
    {
      "cell_type": "code",
      "source": [
        "#풀이1. 반복 구조로 홀짝 노드 처리\n",
        "def oddEvenList(self, head:ListNode) -> ListNode:\n",
        "  #예외 처리\n",
        "  if head is None:\n",
        "    return None\n",
        "\n",
        "  odd=head\n",
        "  even=head.next\n",
        "  even_head=head.next\n",
        "\n",
        "  #반복하면서 홀짝 노드 처리\n",
        "  while even and even.next:\n",
        "    odd.next,even.next=odd.next.next,even.next.next\n",
        "    odd,even=odd.next,even.next\n",
        "\n",
        "  #홀수 노드의 마지막을 짝수 헤드로 연결\n",
        "  odd.next=even_head\n",
        "  return head"
      ],
      "metadata": {
        "id": "F7f6aTGLiiNS"
      },
      "execution_count": null,
      "outputs": []
    },
    {
      "cell_type": "markdown",
      "source": [
        "### 19. 역순 연결 리스트2"
      ],
      "metadata": {
        "id": "jE5AzBt7jHzX"
      }
    },
    {
      "cell_type": "code",
      "source": [
        "#풀이1. 반복 구조로 노드 뒤집기\n",
        "def reverseBetween(self, head:ListNode, m:int, n:int) -> ListNode:\n",
        "  #예외 처리\n",
        "  if not head ot m==n:\n",
        "    return head\n",
        "  root=start=ListNode(None)\n",
        "  root.next=head\n",
        "  #start, end지정\n",
        "  for _ in range(m-1):\n",
        "    start=start.next\n",
        "  end=start.next\n",
        "\n",
        "  #반복하면서 노드 차례대로 뒤집기\n",
        "  for _ in range(n-m):\n",
        "    tmp,start.next,end.next=start.next,end.next,end.next.next\n",
        "    start.next.next=tmp\n",
        "  \n",
        "  return root.next"
      ],
      "metadata": {
        "id": "VvgUEe2UgbDm"
      },
      "execution_count": null,
      "outputs": []
    },
    {
      "cell_type": "markdown",
      "source": [
        "## 리트코드 문제"
      ],
      "metadata": {
        "id": "49YxHzTZ_2t2"
      }
    },
    {
      "cell_type": "code",
      "source": [
        "#234. Palindrome Linked List\n",
        "\n",
        "class Solution:\n",
        "    def isPalindrome(self, head: Optional[ListNode]) -> bool:\n",
        "        node_list=[]\n",
        "        while head: #node.next =None이 아닐 경우. 즉, node의 next가 있는 경우 실행\n",
        "            node_list.append(head.val)\n",
        "            head=head.next\n",
        "        if node_list==node_list[-1]:\n",
        "            return True\n",
        "        else:\n",
        "            return False\n"
      ],
      "metadata": {
        "id": "1rP5cIHC_4Hv"
      },
      "execution_count": null,
      "outputs": []
    }
  ]
}