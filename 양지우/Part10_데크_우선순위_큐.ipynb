{
  "nbformat": 4,
  "nbformat_minor": 0,
  "metadata": {
    "colab": {
      "provenance": []
    },
    "kernelspec": {
      "name": "python3",
      "display_name": "Python 3"
    },
    "language_info": {
      "name": "python"
    }
  },
  "cells": [
    {
      "cell_type": "markdown",
      "source": [
        "## 10장. 데크/우선순위 큐"
      ],
      "metadata": {
        "id": "FNgP6gykivqp"
      }
    },
    {
      "cell_type": "markdown",
      "source": [
        "### 26. 원형 데크 디자인"
      ],
      "metadata": {
        "id": "tu1ubNvmtG2Y"
      }
    },
    {
      "cell_type": "code",
      "execution_count": null,
      "metadata": {
        "id": "6WXRIcS_iq_y"
      },
      "outputs": [],
      "source": [
        "#풀이1. 이중 연결 리스트를 이용한 데크 구현\n",
        "\n",
        "class MyCircularDeque:\n",
        "  def __init__(self,k:int):\n",
        "    self.head, self.tail=ListNode(None), ListNode(None)\n",
        "    self.k,self.len=k,0\n",
        "    self.head.right, self.tail.left=self.tail, self.head\n",
        "\n",
        "  #이중 연결 리스트에 신규 노드 삽입\n",
        "  def _add(self, node:ListNode, new:ListNode):\n",
        "    n=node.right\n",
        "    node.right=new\n",
        "    new.left,new.right=node,n\n",
        "    n.left=new\n",
        "\n",
        "  def _del(self,node:ListNode):\n",
        "    n=node.right.right\n",
        "    node.right=n\n",
        "    n.left=node\n",
        "\n",
        "  def insertFront(self,value:int) -> bool:\n",
        "    if self.len==self.k:\n",
        "      return False\n",
        "    self.len+=1\n",
        "    self._add(self.head,ListNode(value))\n",
        "    return True\n",
        "\n",
        "  def insertLast(self,value:int) -> bool:\n",
        "    if self.len==self.k:\n",
        "      return False\n",
        "    self.len+=1\n",
        "    self._add(self.tail.left, ListNode(value))\n",
        "    return True\n",
        "\n",
        "  def deleteFront(self) -> bool:\n",
        "    if self.len==0:\n",
        "      return False\n",
        "    self.len-=1\n",
        "    self._del(self.head)\n",
        "    return True\n",
        "\n",
        "  def deleteLast(self) -> bool:\n",
        "    if self.len==0:\n",
        "      return False\n",
        "    self.len-=1\n",
        "    self._del(self.tail.left.left)\n",
        "    return True\n",
        "\n",
        "  def getFront(self) -> int:\n",
        "    return self.head.right.val if self.len else -1\n",
        "\n",
        "  def getRear(self) -> int:\n",
        "    return self.tail.left.val if self.len else -1\n",
        "\n",
        "  def isEmpty(self) -> bool:\n",
        "    return self.len==0\n",
        "\n",
        "  def isFull(self) -> bool:\n",
        "    return self.len==self.k"
      ]
    },
    {
      "cell_type": "markdown",
      "source": [
        "### 27. k개 정렬 리스트 병합"
      ],
      "metadata": {
        "id": "sNhpFKu8tOMc"
      }
    },
    {
      "cell_type": "code",
      "source": [
        "#풀이1. 우선순위 큐를 이용한 리스트 병합\n",
        "\n",
        "def mergeLists(self,lists:List[ListNode]) -> ListNode:\n",
        "  root=result=ListNode(None)\n",
        "  heap=[]\n",
        "\n",
        "  #각 연결 리스트의 루트를 힙에 저장\n",
        "  for i in range(len(lists)):\n",
        "    if lists[i]:\n",
        "      heapq.heappush(heap, (list[i].val, i, list[i]))\n",
        "\n",
        "  #힙 추출 이후 다음 노드는 다시 저장\n",
        "  while heap:\n",
        "    node=heapq.heappop(heap)\n",
        "    idx=node[1]\n",
        "    result.next=node[2]\n",
        "\n",
        "    result=result.next\n",
        "    if result.next:\n",
        "      heapq.heappush(heap,(result.next.val, idx, result.next))\n",
        "\n",
        "  return"
      ],
      "metadata": {
        "id": "5YRc3Z89tShj"
      },
      "execution_count": null,
      "outputs": []
    },
    {
      "cell_type": "markdown",
      "source": [
        "## 프로그래머스 : 프린터"
      ],
      "metadata": {
        "id": "JUG6_fSkIAN6"
      }
    },
    {
      "cell_type": "code",
      "source": [
        "#내가 푼 버전\n",
        "def solution(priorities, location):\n",
        "    \n",
        "    count=0\n",
        "    printer=list(enumerate(priorities))\n",
        "    while True:\n",
        "        start=sorted(printer,key=lambda x:-x[1])\n",
        "        point=printer.index(start[0])\n",
        "        printer=printer[point+1:]+printer[:point]\n",
        "        count+=1\n",
        "        if start[0][0]==location:\n",
        "            break\n",
        "\n",
        "    return count"
      ],
      "metadata": {
        "id": "gJSa4yD3IAXo"
      },
      "execution_count": null,
      "outputs": []
    },
    {
      "cell_type": "code",
      "source": [
        "#queue를 이용한 버전 (요게 좀더 빠름)\n",
        "def solution(priorities, location):\n",
        "    queue =  list(enumerate(priorities))\n",
        "    answer = 0\n",
        "    while True:\n",
        "        cur = queue.pop(0)\n",
        "        if any(cur[1] < q[1] for q in queue):\n",
        "            queue.append(cur)\n",
        "        else:\n",
        "            answer += 1\n",
        "            if cur[0] == location:\n",
        "                return answer"
      ],
      "metadata": {
        "id": "nTJA9EyzInjC"
      },
      "execution_count": null,
      "outputs": []
    }
  ]
}