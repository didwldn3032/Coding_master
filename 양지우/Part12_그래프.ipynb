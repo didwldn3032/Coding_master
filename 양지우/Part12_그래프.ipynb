{
  "nbformat": 4,
  "nbformat_minor": 0,
  "metadata": {
    "colab": {
      "provenance": []
    },
    "kernelspec": {
      "name": "python3",
      "display_name": "Python 3"
    },
    "language_info": {
      "name": "python"
    }
  },
  "cells": [
    {
      "cell_type": "markdown",
      "source": [
        "## 12장. 그래프"
      ],
      "metadata": {
        "id": "Uawqyl1No092"
      }
    },
    {
      "cell_type": "markdown",
      "source": [
        "### 32. 섬의 개수"
      ],
      "metadata": {
        "id": "hmOBof1qo5D5"
      }
    },
    {
      "cell_type": "code",
      "execution_count": null,
      "metadata": {
        "id": "g7oEWD3gmV1w"
      },
      "outputs": [],
      "source": [
        "#풀이1. DFS로 그래프 탐색\n",
        "def numIslands(self, grid:List[LIst[str]]) -> int:\n",
        "    def dfs(i,j):\n",
        "        #더이상 땅이 아닌 경우 종료\n",
        "        if i<0 or i>=len(grid) or j<0 or j>=len(grid[0]) or grid[i][j] != '1':\n",
        "            return \n",
        "        grid[i][j]=0\n",
        "        #동서남북 탐색\n",
        "        dfs(i+1,j)\n",
        "        dfs(i-1,j)\n",
        "        dfs(i,j+1)\n",
        "        dfs(i,j-1)\n",
        "\n",
        "    count=0\n",
        "    for i in range(len(grid)):\n",
        "        for j in range(len(grid[0])):\n",
        "            if grid[i][j]=='1':\n",
        "                dfs(i,j)\n",
        "                #모든 육지 탐색 후 카운트 1증가\n",
        "                count+=1\n",
        "    return count"
      ]
    },
    {
      "cell_type": "markdown",
      "source": [
        "### 33. 전화 번호 문자 조합"
      ],
      "metadata": {
        "id": "hrmSwhi2rGws"
      }
    },
    {
      "cell_type": "code",
      "source": [
        "#풀이1. 모든 조합 탐색\n",
        "from typing import List\n",
        "def letterCombinations(digits:str) -> List[str]:\n",
        "    def dfs(index,path):\n",
        "        #끝까지 탐색하면 백트래킹\n",
        "        if len(path)==len(digits):\n",
        "            result.append(path)\n",
        "            return\n",
        "        #입력값 자릿수 단위 반복\n",
        "        for i in range(index,len(digits)):\n",
        "            #숫자에 해당하는 모든 문자열 반복\n",
        "            for j in dic[digits[i]]:\n",
        "                dfs(i+1, path+j)\n",
        "\n",
        "    #예외 처리\n",
        "    if not digits:\n",
        "        return []\n",
        "\n",
        "    dic={\"2\":\"abc\",\"3\":\"def\",\"4\":\"ghi\",\"5\":\"jkl\",\n",
        "         \"6\":\"mno\",\"7\":\"pqrs\",\"8\":\"tuv\",\"9\":\"wxyz\"}\n",
        "    result=[]\n",
        "    dfs(0,\"\")\n",
        "\n",
        "    return result"
      ],
      "metadata": {
        "id": "zSSsjhULrGIt"
      },
      "execution_count": 10,
      "outputs": []
    },
    {
      "cell_type": "markdown",
      "source": [
        "### 34. 순열"
      ],
      "metadata": {
        "id": "sLi9-ZY0ycO7"
      }
    },
    {
      "cell_type": "code",
      "source": [
        "#풀이1. DFS를 활용한 순열 생성\n",
        "def permute(nums:List[int]) -> List[List[int]]:\n",
        "    results=[]\n",
        "    prev_elements=[]\n",
        "\n",
        "    def dfs(elements):\n",
        "        #리프 노드일 때 결과 추가\n",
        "        if len(elements)==0:\n",
        "            results.append(prev_elements[:])\n",
        "\n",
        "        #순열 생성 재귀 호출\n",
        "        for e in elements:\n",
        "            next_elements=elements[:]\n",
        "            next_elements.remove(e)\n",
        "\n",
        "            prev_elements.append(e)\n",
        "            print(next_elements,prev_elements)\n",
        "            dfs(next_elements)\n",
        "            prev_elements.pop()\n",
        "            print('pop')\n",
        "            print(prev_elements)\n",
        "\n",
        "    dfs(nums)\n",
        "    return results"
      ],
      "metadata": {
        "id": "lqNVKYngyblM"
      },
      "execution_count": 20,
      "outputs": []
    },
    {
      "cell_type": "code",
      "source": [
        "#풀이2. itertools모듈 사용\n",
        "import itertools\n",
        "def permute(self, nums:List[int]) -> List[List[int]]:\n",
        "    return list(itertools.permutations(nums))"
      ],
      "metadata": {
        "id": "T4Qsv_wR0_L9"
      },
      "execution_count": null,
      "outputs": []
    },
    {
      "cell_type": "markdown",
      "source": [
        "### 35. 조합"
      ],
      "metadata": {
        "id": "-Ey562OwEnTg"
      }
    },
    {
      "cell_type": "code",
      "source": [
        "#풀이1. DFS로 k개 조합 생성\n",
        "def combine(self, n:int, k:int)->List[List[int]]:\n",
        "    results=[]\n",
        "\n",
        "    def dfs(elements,start:int,k:int):\n",
        "        if k==0:\n",
        "            results.append(elements[:])\n",
        "            return\n",
        "        \n",
        "        #자신 이전의 모든 값을 고정하여 재귀 호출\n",
        "        for i in range(start, n+1):\n",
        "            elements.append(i)\n",
        "            dfs(elements,i+1,k-1)\n",
        "            elements.pop()\n",
        "        \n",
        "    dfs([],1,k)\n",
        "    return results"
      ],
      "metadata": {
        "id": "0NMFSsm1Eoum"
      },
      "execution_count": null,
      "outputs": []
    },
    {
      "cell_type": "code",
      "source": [
        "dfs([],start=1,k=2)\n",
        "\n",
        "i=1\n",
        "elements=[1], dfs([1],start=2,k=1)\n",
        "i=2\n",
        "elements[1,2], dfs([1,2],start=3,k=0)\n",
        "results=[1,2]\n",
        "\n",
        "\n"
      ],
      "metadata": {
        "id": "mTxQPcjiFrwH"
      },
      "execution_count": null,
      "outputs": []
    },
    {
      "cell_type": "code",
      "source": [
        "#풀이2. itertools모듈 사용\n",
        "def combine(self,n:int,k:int) -> List[List[int]]:\n",
        "    return list(itertools.combintations(range(1,n+1),k))"
      ],
      "metadata": {
        "id": "L-excNLZFMRM"
      },
      "execution_count": null,
      "outputs": []
    },
    {
      "cell_type": "markdown",
      "source": [
        "### 36. 조합의 합"
      ],
      "metadata": {
        "id": "8sQouXejGp_s"
      }
    },
    {
      "cell_type": "code",
      "source": [
        "#풀이1. DFS로 중복 조합 그래프 탐색\n",
        "def combintations(self, candidates:List[int],target:int) -> List[List[int]]:\n",
        "    result=[]\n",
        "\n",
        "    def dfs(csum, index, path):\n",
        "        #종료 조건\n",
        "        if csum < 0:\n",
        "            return\n",
        "        if csum==0:\n",
        "            result.append(path)\n",
        "            return\n",
        "\n",
        "        #자신부터 하위 원소까지의 나열 재귀 호출\n",
        "\n",
        "        for i in range(index, len(candidates)):\n",
        "            dfs(csum-candidates[i],i,path+[candidates[i]])\n",
        "\n",
        "    dfs(target,0,[])\n",
        "    return result"
      ],
      "metadata": {
        "id": "I2nmcR0vGoPe"
      },
      "execution_count": null,
      "outputs": []
    },
    {
      "cell_type": "markdown",
      "source": [
        "### 37. 부분 집합"
      ],
      "metadata": {
        "id": "H1kFK_HDHSqo"
      }
    },
    {
      "cell_type": "code",
      "source": [
        "#풀이1. 트리의 모든 DFS결과\n",
        "def subsets(self, nums:List[int]) -> List[List[int]]:\n",
        "    result=[]\n",
        "\n",
        "    def dfs(index,path):\n",
        "        #매번 결과 추가\n",
        "        result.append(path)\n",
        "\n",
        "        #경로를 만들면서 DFS\n",
        "        for i in range(index,len(nums)):\n",
        "            dfs(i+1,path+[nums[i]])\n",
        "\n",
        "    dfs(0,[])\n",
        "    return result"
      ],
      "metadata": {
        "id": "Nw79Tz2rHUMl"
      },
      "execution_count": null,
      "outputs": []
    },
    {
      "cell_type": "markdown",
      "source": [
        "### 38. 일정 재구성"
      ],
      "metadata": {
        "id": "GNyg_dT2IwdX"
      }
    },
    {
      "cell_type": "code",
      "source": [
        "#풀이1. DFS로 일정 그래프 구성\n",
        "import collections\n",
        "def findItinerary(self, tickets:List[List[str]]) -> List[str]:\n",
        "    graph=collections.defaultdict(list)\n",
        "    #그래프 순서대로 구성\n",
        "    for a,b in sorted(tickets):\n",
        "        graph[a].append(b)\n",
        "\n",
        "    route=[]\n",
        "    def dfs(a):\n",
        "        #첫 번째 값을 읽어 어휘 순 방문\n",
        "        while graph[a]:\n",
        "            dfs(graph[a].pop(0))\n",
        "        route.append(a)\n",
        "\n",
        "    dfs('JFK')\n",
        "    #다시 뒤집어 어휘 순 결과로\n",
        "    return route[::-1]"
      ],
      "metadata": {
        "id": "pLLrBDj9Ixt1"
      },
      "execution_count": null,
      "outputs": []
    },
    {
      "cell_type": "code",
      "source": [
        "#스택 연산으로 큐 연산 최적화 시도\n",
        "def findItinerary(self, tickets:List[List[str]]) -> List[str]:\n",
        "    graph=collections.defaultdict(list)\n",
        "    #그래프를 뒤집어서 구성\n",
        "    for a,b in sorted(tickets,reverse=True):\n",
        "        graph[a].append(b)\n",
        "\n",
        "    route=[]\n",
        "    def dfs(a):\n",
        "        #마지막 값을 읽어 어휘 순 방문\n",
        "        while graph[a]:\n",
        "            dfs(graph[a].pop())\n",
        "        route.append(a)\n",
        "\n",
        "    dfs('JFK')\n",
        "    #다시 뒤집어 어휘 순 결과로\n",
        "    return route[::-1]"
      ],
      "metadata": {
        "id": "hG2-_vw7JzQA"
      },
      "execution_count": null,
      "outputs": []
    },
    {
      "cell_type": "code",
      "source": [
        "#풀이3. 일정 그래프 반복\n",
        "def findItinerary(self, tickets:List[List[str]]) -> List[str]:\n",
        "    graph=collections.defaultdict(list)\n",
        "    #그래프 순서대로 구성\n",
        "    for a,b in sorted(tickets):\n",
        "        graph[a].append(b)\n",
        "\n",
        "    route,stack=[],['JFK']\n",
        "    while stack:\n",
        "        #반복으로 스택을 구성하되 막히는 부분에서 풀어내는 처리\n",
        "        while graph[stack[-1]]:\n",
        "            stack.append(graph[stack[-1]].pop(0))\n",
        "        route.append(stack.pop())\n",
        "\n",
        "    #다시 뒤집어 어휘 순 결과로\n",
        "    return route[::-1]"
      ],
      "metadata": {
        "id": "DZPyDFTQKPVx"
      },
      "execution_count": 22,
      "outputs": []
    },
    {
      "cell_type": "markdown",
      "source": [
        "### 39. 코스 스케줄"
      ],
      "metadata": {
        "id": "-XgvI9I3YQD8"
      }
    },
    {
      "cell_type": "code",
      "source": [
        "import collections\n",
        "graph=collections.defaultdict(list)\n",
        "for x,y in [[1,0],[2,3]]:\n",
        "    graph[x].append(y)\n",
        "\n",
        "list(graph)"
      ],
      "metadata": {
        "id": "mmps6idcaWUn",
        "outputId": "49eeeafa-b1d7-4384-b1cd-e67596cb6935",
        "colab": {
          "base_uri": "https://localhost:8080/"
        }
      },
      "execution_count": 26,
      "outputs": [
        {
          "output_type": "execute_result",
          "data": {
            "text/plain": [
              "[1, 2]"
            ]
          },
          "metadata": {},
          "execution_count": 26
        }
      ]
    },
    {
      "cell_type": "code",
      "source": [
        "#풀이1. DFS로 순환 구조 판별\n",
        "def canFinish(self, numCourses:int, prerequisites:List[List[int]]) -> bool:\n",
        "    graph=collections.defaultdict(list)\n",
        "    #그래프 구성\n",
        "    for x,y in prerequisites:\n",
        "        graph[x].append(y)\n",
        "\n",
        "    traced=set()\n",
        "\n",
        "    def dfs(i):\n",
        "        #순환 구조이면 False\n",
        "        if i in traced:\n",
        "            return False\n",
        "\n",
        "        traced.add(i)\n",
        "        for y in graph[i]:\n",
        "            if not dfs(y):\n",
        "                return False\n",
        "        #탐색 종료 후 순환 노드 삭제\n",
        "        traced.remove(i)\n",
        "\n",
        "        return True\n",
        "\n",
        "    #순환 구조 판별\n",
        "    for x in list(graph):\n",
        "        if not dfs(x):\n",
        "            return False\n",
        "\n",
        "    return True"
      ],
      "metadata": {
        "id": "mHlsTuEXYRcR"
      },
      "execution_count": null,
      "outputs": []
    },
    {
      "cell_type": "code",
      "source": [
        "#풀이2. 가지치기를 이용한 최적화\n",
        "def canFinish(self, numCourses:int, prerequisites:List[List[int]]) -> bool:\n",
        "    graph=collections.defaultdict(list)\n",
        "    #그래프 구성\n",
        "    for x,y in prerequisites:\n",
        "        graph[x].append(y)\n",
        "\n",
        "    traced=set()\n",
        "    visited=set()\n",
        "\n",
        "    def dfs(i):\n",
        "        #순환 구조이면 False\n",
        "        if i in traced:\n",
        "            return False\n",
        "        #이미 방문했던 노드이면 True\n",
        "        if i in visited:\n",
        "            return True\n",
        "        \n",
        "        traced.add(i)\n",
        "        for y in graph[i]:\n",
        "            if not dfs(y):\n",
        "                return False\n",
        "\n",
        "        #탐색 종류 후 순환 노드 삭제\n",
        "        traced.remove(i)\n",
        "        #탐색 종료 후 방문 노드 추가\n",
        "        visited.add(i)\n",
        "\n",
        "        return True\n",
        "\n",
        "    #순환 구조 판별\n",
        "    for x in list(graph):\n",
        "        if not dfs(x):\n",
        "            return False\n",
        "\n",
        "    return True"
      ],
      "metadata": {
        "id": "N6ldPfc0ZHio"
      },
      "execution_count": null,
      "outputs": []
    }
  ]
}
